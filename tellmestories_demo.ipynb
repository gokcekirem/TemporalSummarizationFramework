{
 "cells": [
  {
   "cell_type": "markdown",
   "id": "d8f79d40",
   "metadata": {},
   "source": [
    " ### Tell me stories normal setup"
   ]
  },
  {
   "cell_type": "code",
   "execution_count": 1,
   "id": "3770adfd",
   "metadata": {},
   "outputs": [],
   "source": [
    "from contamehistorias.datasources.webarchive import ArquivoPT\n",
    "from datetime import datetime"
   ]
  },
  {
   "cell_type": "code",
   "execution_count": 2,
   "id": "236f7206",
   "metadata": {},
   "outputs": [],
   "source": [
    "# Specify website and time frame to restrict your query\n",
    "domains = ['http://publico.pt/', 'http://www.rtp.pt/','http://www.dn.pt/', 'http://news.google.pt/',]\n",
    "\n",
    "params = {'domains':domains,\n",
    "          'from':datetime(year=2011, month=3, day=1),\n",
    "          'to':datetime(year=2018, month=5, day=10) }\n",
    "  \n",
    "query = 'Dilma Rousseff'\n",
    "  \n",
    "apt =  ArquivoPT()\n",
    "search_result = apt.getResult(query=query, **params)"
   ]
  },
  {
   "cell_type": "code",
   "execution_count": 3,
   "id": "2a066ed6",
   "metadata": {},
   "outputs": [
    {
     "name": "stdout",
     "output_type": "stream",
     "text": [
      "\n",
      "Timeline\n",
      "\n",
      "2011-03-01 04:47:18 until 2018-03-11 04:36:55\n",
      "\tdilma rousseff defende brasil das críticas da fifa\n",
      "\tbrasileiros protestam contra governo de dilma rousseff\n",
      "\tnove estados brasileiros com manifestações contra governo de dilma rousseff\n",
      "\tdilma rousseff diz que denúncias sobre escândalo petrobras são \"eleitoralistas\"\n",
      "\tdilma rousseff apela à luta contra \"golpe\" e rejeita pedido de impugnação\n",
      "\tgrupos contra dilma rousseff convocam protesto a favor de impugnação\n",
      "\tsupremo tribunal do brasil anula processo de destituição de dilma rousseff\n",
      "\tdilma rousseff diz estar empenhada no combate ao vírus zika\n",
      "\tdilma rousseff visitará hoje lula da silva\n",
      "\ttrês ministros do pmdb querem ficar no governo de dilma rousseff\n",
      "\tpedido de destituição de dilma rousseff aquece congresso brasileiro\n",
      "\tcaetano veloso contra afastamento de dilma rousseff da presidência\n",
      "\tdilma rousseff defende referendo sobre eleições antecipadas no brasil\n",
      "\tdilma rousseff vai conhecer se vai ser afastada da presidência\n",
      "\tdilma rousseff vai recorrer para o supremo tribunal federal\n",
      "\ttribunal eleitoral absolve dilma rousseff e michel temer\n",
      "\tprocuradoria-geral da república do brasil deduz acusação contra dilma rousseff e lula da silva\n",
      "\tlula da silva e dilma rousseff acusados em novo processo\n",
      "\tlula da silva e dilma rousseff afirmam que acusação da pgr do brasil não tem fundamento\n",
      "\tpgr deduz acusação contra dilma rousseff e lula da silva\n",
      "\n",
      "\n",
      "Summary\n",
      "\tNumber of unique domains 4\n",
      "\tFound documents 1917\n"
     ]
    }
   ],
   "source": [
    "from contamehistorias import engine\n",
    "language = \"pt\"\n",
    "\n",
    "cont = engine.TemporalSummarizationEngine()\n",
    "summ_result = cont.build_intervals(search_result, language, query=query)\n",
    "  \n",
    "cont.pprint(summ_result)"
   ]
  },
  {
   "cell_type": "code",
   "execution_count": null,
   "id": "b34ab2ab",
   "metadata": {},
   "outputs": [],
   "source": [
    "#Total number of results retrieved by Arquivo.pt or Google News\n",
    "len(search_result)"
   ]
  },
  {
   "cell_type": "code",
   "execution_count": null,
   "id": "486e8aad",
   "metadata": {},
   "outputs": [],
   "source": [
    "for x in search_result:\n",
    "    print(x.datetime)\n",
    "    print(x.domain)\n",
    "    print(x.headline)\n",
    "    print(x.url)\n",
    "    print()"
   ]
  },
  {
   "cell_type": "markdown",
   "id": "e22bd180",
   "metadata": {},
   "source": [
    " ### Tell me stories with News API"
   ]
  },
  {
   "cell_type": "code",
   "execution_count": null,
   "id": "70f8d4d8",
   "metadata": {
    "scrolled": true
   },
   "outputs": [],
   "source": [
    "from contamehistorias.datasources.google_news import NewsSearchAPI\n",
    "from contamehistorias.engine import TemporalSummarizationEngine\n",
    "from datetime import datetime\n",
    "\n",
    "params = {'api_key':\"your api key\",\n",
    "          'language':\"en\",\n",
    "          'query':'Novak Djokovic',\n",
    "          'from':datetime(year=2018, month=3, day=1),\n",
    "          'to':datetime(year=2022, month=1, day=17) }\n",
    "\n",
    "#country=us\n",
    "#sources=bbc-new\n",
    "  \n",
    "google =  NewsSearchAPI(params)\n",
    "search_result = google.getResult(query=params[\"query\"])"
   ]
  },
  {
   "cell_type": "code",
   "execution_count": null,
   "id": "6be5857a",
   "metadata": {},
   "outputs": [],
   "source": [
    "#Total number of results retrieved by Arquivo.pt or Google News\n",
    "len(search_result)"
   ]
  },
  {
   "cell_type": "code",
   "execution_count": null,
   "id": "16b68857",
   "metadata": {
    "scrolled": true
   },
   "outputs": [],
   "source": [
    "for x in search_result:\n",
    "    print(x.datetime)\n",
    "    print(x.domain)\n",
    "    print(x.headline)\n",
    "    print(x.url)\n",
    "    print()"
   ]
  },
  {
   "cell_type": "code",
   "execution_count": null,
   "id": "3dc2bb88",
   "metadata": {},
   "outputs": [],
   "source": [
    "import pickle\n",
    "with open('search_result_djokovic.pickle', 'wb') as handle:\n",
    "    pickle.dump(search_result, handle, protocol=pickle.HIGHEST_PROTOCOL)"
   ]
  },
  {
   "cell_type": "code",
   "execution_count": null,
   "id": "9d52c201",
   "metadata": {},
   "outputs": [],
   "source": [
    "import pickle\n",
    "with open('search_result_djokovic.pickle', 'rb') as handle: #syria, brexit, putin, metaverse, djokovic\n",
    "    serial_search_result = pickle.load(handle)\n",
    "    \n",
    "params = {'api_key':\"your api key\",\n",
    "          'language':\"en\",\n",
    "          'query':'Novak Djokovic',\n",
    "          'from':datetime(year=2013, month=3, day=1),\n",
    "          'to':datetime(year=2022, month=1, day=17) }"
   ]
  },
  {
   "cell_type": "code",
   "execution_count": null,
   "id": "cbd0ab89",
   "metadata": {},
   "outputs": [],
   "source": [
    "search_result = serial_search_result"
   ]
  },
  {
   "cell_type": "code",
   "execution_count": null,
   "id": "58db63d0",
   "metadata": {},
   "outputs": [],
   "source": [
    "from contamehistorias import engine\n",
    "language = \"en\"\n",
    "\n",
    "cont = engine.TemporalSummarizationEngine()\n",
    "summ_result = cont.build_intervals(search_result, language, query=params[\"query\"])\n",
    "  \n",
    "cont.pprint(summ_result)"
   ]
  },
  {
   "cell_type": "code",
   "execution_count": null,
   "id": "c9b80110",
   "metadata": {},
   "outputs": [],
   "source": []
  }
 ],
 "metadata": {
  "kernelspec": {
   "display_name": "Python 3 (ipykernel)",
   "language": "python",
   "name": "python3"
  },
  "language_info": {
   "codemirror_mode": {
    "name": "ipython",
    "version": 3
   },
   "file_extension": ".py",
   "mimetype": "text/x-python",
   "name": "python",
   "nbconvert_exporter": "python",
   "pygments_lexer": "ipython3",
   "version": "3.9.7"
  }
 },
 "nbformat": 4,
 "nbformat_minor": 5
}
